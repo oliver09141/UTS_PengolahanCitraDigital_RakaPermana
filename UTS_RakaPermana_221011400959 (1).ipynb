{
 "cells": [
  {
   "cell_type": "markdown",
   "id": "67d74ee2-75de-4179-bf2e-fd7b1ad7ff19",
   "metadata": {},
   "source": [
    "BAHAN SOAL"
   ]
  },
  {
   "cell_type": "code",
   "execution_count": 53,
   "id": "1cc1b982-c6a2-475b-9a45-3f781998a3b9",
   "metadata": {},
   "outputs": [],
   "source": [
    "company_detail_list = [\n",
    "      {\n",
    "          'name': 'Company 1',\n",
    "          'domain': 'Retail',\n",
    "          'country': 'United States'\n",
    "      },\n",
    "      {\n",
    "          'name': 'Company 2',\n",
    "          'domain': 'Technology',\n",
    "          'country': 'United Kingdom'\n",
    "      },\n",
    "      {\n",
    "          'name': 'Company 3',\n",
    "          'domain': 'Healthcare',\n",
    "          'country': 'United States'\n",
    "      }\n",
    "  ]\n",
    "\n",
    "employee_detail_list = [\n",
    "     {\n",
    "          'name': 'EMP-0001',\n",
    "          'first_name': 'John',\n",
    "          'last_name': 'Doe',\n",
    "          'full_name': 'John Doe',\n",
    "          'company': 'Company 1',\n",
    "          'nationality': 'Australia'\n",
    "      },\n",
    "      {\n",
    "          'name': 'EMP-0002',\n",
    "          'first_name': 'Tom',\n",
    "          'last_name': 'Smith',\n",
    "          'full_name': 'Tom Smith',\n",
    "          'company': 'Company 2',\n",
    "          'nationality': 'United States'\n",
    "      },\n",
    "      {\n",
    "          'name': 'EMP-0003',\n",
    "          'first_name': 'Andrew',\n",
    "          'last_name': 'Sebastian',\n",
    "          'full_name': 'Andrew Sebastian',\n",
    "          'company': 'Company 3',\n",
    "          'nationality': 'United States'\n",
    "      },\n",
    "      {\n",
    "          'name': 'EMP-0005',\n",
    "          'first_name': 'Ying Han',\n",
    "          'last_name': 'Tan',\n",
    "          'full_name': 'Ying Han Tan',\n",
    "          'company': 'Company 1',\n",
    "          'nationality': 'Australia'\n",
    "      },\n",
    "      {\n",
    "          'name': 'EMP-0015',\n",
    "          'first_name': 'Kenneth',\n",
    "          'last_name': 'Ng',\n",
    "          'full_name': 'Kenneth Ng',\n",
    "          'company': 'Company 3',\n",
    "          'nationality': 'United States'\n",
    "      },\n",
    "      {\n",
    "          'name': 'EMP-0018',\n",
    "          'first_name': 'Rubby',\n",
    "          'last_name': 'Lee',\n",
    "          'full_name': 'Rubby Lee',\n",
    "          'company': 'Company 2',\n",
    "          'nationality': 'Hong Kong'\n",
    "      },\n",
    "     {\n",
    "          'name': 'EMP-0017',\n",
    "          'first_name': 'Robert',\n",
    "          'last_name': 'White',\n",
    "          'full_name': 'Robert White',\n",
    "          'company': 'Company 1',\n",
    "          'nationality': 'United Kingdom'\n",
    "      }\n",
    "  ]\n",
    "\n"
   ]
  },
  {
   "cell_type": "markdown",
   "id": "8d51fbb3-9ef4-44ea-a268-3aa2a51a5095",
   "metadata": {},
   "source": [
    "SOAL NOMOR 1"
   ]
  },
  {
   "cell_type": "code",
   "execution_count": 54,
   "id": "7ff917e3-e2b6-474c-b186-963039436b5e",
   "metadata": {},
   "outputs": [
    {
     "name": "stdout",
     "output_type": "stream",
     "text": [
      "{'name': 'Company 3', 'domain': 'Healthcare', 'country': 'United States'}\n",
      "{'name': 'Company 2', 'domain': 'Technology', 'country': 'United Kingdom'}\n",
      "{'name': 'Company 1', 'domain': 'Retail', 'country': 'United States'}\n"
     ]
    }
   ],
   "source": [
    "sorted_companies = sorted(\n",
    "    company_detail_list, \n",
    "    key=lambda x: x['name'], \n",
    "    reverse=True\n",
    ")\n",
    "\n",
    "# Tampilkan hasil\n",
    "for company in sorted_companies:\n",
    "    print(company)"
   ]
  },
  {
   "cell_type": "markdown",
   "id": "31f62666-2e37-470f-af99-50f5b44daedd",
   "metadata": {},
   "source": [
    "SOAL NOMOR 2"
   ]
  },
  {
   "cell_type": "code",
   "execution_count": 55,
   "id": "6bf0d061-c6ae-422b-9a00-3a52c0d06a6e",
   "metadata": {},
   "outputs": [
    {
     "name": "stdout",
     "output_type": "stream",
     "text": [
      "Company 1: Retail (United States)\n",
      "Company 2: Technology (United Kingdom)\n",
      "Company 3: Healthcare (United States)\n"
     ]
    }
   ],
   "source": [
    "for company in company_detail_list:\n",
    "    print(f\"{company['name']}: {company['domain']} ({company['country']})\")"
   ]
  },
  {
   "cell_type": "markdown",
   "id": "afa08b7c-30d2-42e2-8ffe-78947ba7d4fe",
   "metadata": {},
   "source": [
    "SOAL NOMOR 3"
   ]
  },
  {
   "cell_type": "code",
   "execution_count": 56,
   "id": "456d0ca2-51a9-4cee-89e6-d9f9c163ac91",
   "metadata": {},
   "outputs": [
    {
     "name": "stdout",
     "output_type": "stream",
     "text": [
      "Retail:\n",
      "    - John Doe\n",
      "    - Ying Han Tan\n",
      "    - Robert White\n",
      "\n",
      "Technology:\n",
      "    - Tom Smith\n",
      "    - Rubby Lee\n",
      "\n",
      "Healthcare:\n",
      "    - Andrew Sebastian\n",
      "    - Kenneth Ng\n",
      "\n"
     ]
    }
   ],
   "source": [
    "company_domain_map = {company['name']: company['domain'] for company in company_detail_list}\n",
    "\n",
    "employees_by_domain = {}\n",
    "\n",
    "for employee in employee_detail_list:\n",
    "    company = employee['company']\n",
    "    domain = company_domain_map[company]  \n",
    "  \n",
    "    if domain not in employees_by_domain:\n",
    "        employees_by_domain[domain] = [] \n",
    "    employees_by_domain[domain].append(employee['full_name'])\n",
    "\n",
    "for domain, employees in employees_by_domain.items():\n",
    "    print(f\"{domain}:\")\n",
    "    for name in employees:\n",
    "        print(f\"    - {name}\")\n",
    "    print()  "
   ]
  },
  {
   "cell_type": "markdown",
   "id": "d7af3293-81cd-4117-aa1c-17d71087da40",
   "metadata": {},
   "source": [
    "SOAL NOMOR 4"
   ]
  },
  {
   "cell_type": "code",
   "execution_count": 57,
   "id": "337fd8cf-d2e8-47b2-9a86-737038ac3cc8",
   "metadata": {},
   "outputs": [
    {
     "name": "stdout",
     "output_type": "stream",
     "text": [
      "full_name: \"John Doe\",\n",
      "company: \"Company 1\",\n",
      "country: \"United States\"\n",
      "\n",
      "full_name: \"Tom Smith\",\n",
      "company: \"Company 2\",\n",
      "country: \"United Kingdom\"\n",
      "\n",
      "full_name: \"Andrew Sebastian\",\n",
      "company: \"Company 3\",\n",
      "country: \"United States\"\n",
      "\n",
      "full_name: \"Ying Han Tan\",\n",
      "company: \"Company 1\",\n",
      "country: \"United States\"\n",
      "\n",
      "full_name: \"Kenneth Ng\",\n",
      "company: \"Company 3\",\n",
      "country: \"United States\"\n",
      "\n",
      "full_name: \"Rubby Lee\",\n",
      "company: \"Company 2\",\n",
      "country: \"United Kingdom\"\n",
      "\n",
      "full_name: \"Robert White\",\n",
      "company: \"Company 1\",\n",
      "country: \"United States\"\n",
      "\n"
     ]
    }
   ],
   "source": [
    "def get_employees_with_country():   \n",
    "    company_country_map = {company['name']: company['country'] for company in company_detail_list}\n",
    "    \n",
    "    employee_country_list = []\n",
    "    \n",
    "    for employee in employee_detail_list:\n",
    "        company = employee['company'] \n",
    "        country = company_country_map[company]  \n",
    "        \n",
    "        employee_info = {\n",
    "            'full_name': employee['full_name'],\n",
    "            'company': company,\n",
    "            'country': country\n",
    "        }\n",
    "        employee_country_list.append(employee_info)  \n",
    "    return employee_country_list  \n",
    "\n",
    "result = get_employees_with_country()\n",
    "\n",
    "for item in result:\n",
    "    print(f'full_name: \"{item[\"full_name\"]}\",')\n",
    "    print(f'company: \"{item[\"company\"]}\",')\n",
    "    print(f'country: \"{item[\"country\"]}\"')\n",
    "    print() "
   ]
  },
  {
   "cell_type": "markdown",
   "id": "1388de93-14d7-4b37-8461-fc2971cb7a28",
   "metadata": {},
   "source": [
    "Soal Nomor 5"
   ]
  },
  {
   "cell_type": "code",
   "execution_count": 58,
   "id": "2d319e89-c0b3-44c5-8735-7249ba1986a6",
   "metadata": {},
   "outputs": [
    {
     "name": "stdout",
     "output_type": "stream",
     "text": [
      "company: Company 1\n",
      "employee_nationality:\n",
      "  Australia: 2\n",
      "  United Kingdom: 1\n",
      "\n",
      "company: Company 2\n",
      "employee_nationality:\n",
      "  United States: 1\n",
      "  Hong Kong: 1\n",
      "\n",
      "company: Company 3\n",
      "employee_nationality:\n",
      "  United States: 2\n",
      "\n"
     ]
    }
   ],
   "source": [
    "def get_companies_with_employee_nationality():\n",
    "    company_nationality_count = {}\n",
    "  \n",
    "    for employee in employee_detail_list:\n",
    "        company = employee['company']  \n",
    "        nationality = employee['nationality'] \n",
    "     \n",
    "        if company not in company_nationality_count:\n",
    "            company_nationality_count[company] = {}\n",
    "     \n",
    "        if nationality in company_nationality_count[company]:\n",
    "            company_nationality_count[company][nationality] += 1\n",
    "        else:\n",
    "            company_nationality_count[company][nationality] = 1\n",
    "\n",
    "   \n",
    "    result = []\n",
    "    for company, nationality_count in company_nationality_count.items():\n",
    "        result.append({\n",
    "            'company': company,\n",
    "            'employee_nationality': nationality_count\n",
    "        })\n",
    "\n",
    "    return result\n",
    "\n",
    "\n",
    "result = get_companies_with_employee_nationality()\n",
    "\n",
    "for item in result:\n",
    "    print(f\"company: {item['company']}\")\n",
    "    print(\"employee_nationality:\")\n",
    "    for nationality, count in item['employee_nationality'].items():\n",
    "        print(f\"  {nationality}: {count}\")\n",
    "    print()  "
   ]
  }
 ],
 "metadata": {
  "kernelspec": {
   "display_name": "Python 3 (ipykernel)",
   "language": "python",
   "name": "python3"
  },
  "language_info": {
   "codemirror_mode": {
    "name": "ipython",
    "version": 3
   },
   "file_extension": ".py",
   "mimetype": "text/x-python",
   "name": "python",
   "nbconvert_exporter": "python",
   "pygments_lexer": "ipython3",
   "version": "3.12.2"
  }
 },
 "nbformat": 4,
 "nbformat_minor": 5
}
